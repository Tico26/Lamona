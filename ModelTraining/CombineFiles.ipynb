{
 "cells": [
  {
   "cell_type": "code",
   "execution_count": 39,
   "id": "e3590042-7513-4729-b18b-e59a437882c2",
   "metadata": {},
   "outputs": [],
   "source": [
    "import pandas as pd #read files\n",
    "from pathlib import Path"
   ]
  },
  {
   "cell_type": "code",
   "execution_count": 85,
   "id": "90414421-5512-4eeb-a3a1-e8565098832e",
   "metadata": {},
   "outputs": [],
   "source": [
    "#merging NonProducts into single csv\n",
    "# List of CSV file names to merge\n",
    "file_path = '/Users/Tico/Documents/Masters/LaMona/CSV/Non-Products/'\n",
    "file_names = ['missdivaChildren.csv','yoursChildren.csv','tekshopChildren.csv','skatesChildren.csv','portopetsChildren.csv','rollerbladeChildren.csv','cabinetshopChildren.csv']\n",
    "\n",
    "# Create an empty DataFrame to store merged data\n",
    "merged_data = pd.DataFrame()\n",
    "\n",
    "# Merge CSV files\n",
    "for filename in file_names:\n",
    "    df = pd.read_csv(file_path+ filename)\n",
    "    merged_data = pd.concat([merged_data, df], ignore_index=True)\n",
    "\n",
    "# Save the merged DataFrame to a new CSV file\n",
    "merged_data.to_csv(file_path+'NonProducts.csv', index=False)"
   ]
  },
  {
   "cell_type": "code",
   "execution_count": 87,
   "id": "3bd11d4b-50d1-4cdf-ad72-dee8ea3d69f6",
   "metadata": {},
   "outputs": [],
   "source": [
    "merged = open(file_path + 'NonProducts.csv', \"r\")\n",
    "df = pd.read_csv(merged)"
   ]
  },
  {
   "cell_type": "code",
   "execution_count": 89,
   "id": "f45efdab-9f2d-4153-9c35-bb219fbec8a8",
   "metadata": {},
   "outputs": [
    {
     "name": "stdout",
     "output_type": "stream",
     "text": [
      "                                                   html  name  price\n",
      "0     <li class=\"disclosure-list__item\">\\n<a class=\"...   NaN    NaN\n",
      "1     <a class=\"disclosure-list__option disclosure-o...   NaN    NaN\n",
      "2     <span class=\"disclosure-option-with-parts__par...   NaN    NaN\n",
      "3     <span class=\"disclosure-option-with-parts__par...   NaN    NaN\n",
      "4     <li class=\"disclosure-list__item\">\\n<a class=\"...   NaN    NaN\n",
      "...                                                 ...   ...    ...\n",
      "1259  <input name=\"options[prefix]\" type=\"hidden\" va...   NaN    NaN\n",
      "1260  <button aria-label=\"Search\" class=\"search__but...   NaN    NaN\n",
      "1261  <div class=\"predictive-search predictive-searc...   NaN    NaN\n",
      "1262  <div class=\"predictive-search__loading-state\">...   NaN    NaN\n",
      "1263  <span aria-hidden=\"true\" class=\"predictive-sea...   NaN    NaN\n",
      "\n",
      "[1264 rows x 3 columns]\n"
     ]
    }
   ],
   "source": [
    "print(df)"
   ]
  },
  {
   "cell_type": "code",
   "execution_count": 97,
   "id": "b8fc49e9-f467-4b18-a26b-a3dfa27a04c8",
   "metadata": {},
   "outputs": [],
   "source": [
    "#merging NonProducts into single csv\n",
    "# List of CSV file names to merge\n",
    "file_path = '/Users/Tico/Documents/Masters/LaMona/CSV/Products/'\n",
    "file_names = ['missdivaHeels.csv','yoursCrops&Shorts.csv','tekshopLaptops.csv','skateScooters.csv','portopetsCats.csv','rollerbladeSkates.csv','cabinetshopItems.csv']\n",
    "\n",
    "# Create an empty DataFrame to store merged data\n",
    "merged_data = pd.DataFrame()\n",
    "\n",
    "# Merge CSV files\n",
    "for filename in file_names:\n",
    "    df = pd.read_csv(file_path+ filename)\n",
    "    merged_data = pd.concat([merged_data, df], ignore_index=True)\n",
    "\n",
    "# Save the merged DataFrame to a new CSV file\n",
    "merged_data.to_csv(file_path+'Products.csv', index=False)"
   ]
  },
  {
   "cell_type": "code",
   "execution_count": 99,
   "id": "dadcd220-e8f4-428b-8324-022b213fd5dd",
   "metadata": {},
   "outputs": [],
   "source": [
    "merged = open(file_path + 'Products.csv', \"r\")\n",
    "df = pd.read_csv(merged)"
   ]
  },
  {
   "cell_type": "code",
   "execution_count": 103,
   "id": "4677894c-2a51-477d-88ef-0b3b03c7daa2",
   "metadata": {},
   "outputs": [
    {
     "name": "stdout",
     "output_type": "stream",
     "text": [
      "                                                html  \\\n",
      "0  <div class=\"product-block layout-align-above f...   \n",
      "1  <div class=\"product-block layout-align-above f...   \n",
      "2  <div class=\"product-block layout-align-above f...   \n",
      "3  <div class=\"product-block layout-align-above f...   \n",
      "4  <div class=\"product-block layout-align-above f...   \n",
      "\n",
      "                                                name   price  \n",
      "0  Tani High Platform T-Bar Sandals in Black Pate...  £39.99  \n",
      "1  Lucie Kitten Heel Strappy Mule in Black\\n     ...  £29.99  \n",
      "2  Tani High Platform T-Bar Sandals in Nude Paten...  £39.99  \n",
      "3  Mila High Stiletto Heel Court Shoe In Black Pa...  £35.00  \n",
      "4  Amanda 3 Diamante Strap T-bar Block Heel Sanda...  £34.99  \n"
     ]
    }
   ],
   "source": [
    "df.head()"
   ]
  },
  {
   "cell_type": "code",
   "execution_count": null,
   "id": "46f6605f-6dd3-405b-a93e-8c78660c20a1",
   "metadata": {},
   "outputs": [],
   "source": []
  }
 ],
 "metadata": {
  "kernelspec": {
   "display_name": "Python 3 (ipykernel)",
   "language": "python",
   "name": "python3"
  },
  "language_info": {
   "codemirror_mode": {
    "name": "ipython",
    "version": 3
   },
   "file_extension": ".py",
   "mimetype": "text/x-python",
   "name": "python",
   "nbconvert_exporter": "python",
   "pygments_lexer": "ipython3",
   "version": "3.12.4"
  }
 },
 "nbformat": 4,
 "nbformat_minor": 5
}
