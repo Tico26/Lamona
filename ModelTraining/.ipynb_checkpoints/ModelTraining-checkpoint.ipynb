{
 "cells": [
  {
   "cell_type": "code",
   "execution_count": 39,
   "id": "e3590042-7513-4729-b18b-e59a437882c2",
   "metadata": {},
   "outputs": [],
   "source": [
    "import pandas as pd #read files\n",
    "from pathlib import Path"
   ]
  },
  {
   "cell_type": "code",
   "execution_count": 51,
   "id": "6458b2d3-7159-4fe1-aad9-ae3744a1d0c0",
   "metadata": {},
   "outputs": [],
   "source": [
    "shop = \"missdiva\"\n",
    "f = open('/Users/Tico/Documents/Masters/LaMona/CSV/Non-Products/'+shop+'Children.csv', \"r\")\n",
    "#print(f.read())\n",
    "df = pd.read_csv(f)"
   ]
  },
  {
   "cell_type": "code",
   "execution_count": 53,
   "id": "d9cde518-b6e7-4efb-9e77-b9c33a3496bb",
   "metadata": {},
   "outputs": [
    {
     "data": {
      "text/html": [
       "<div>\n",
       "<style scoped>\n",
       "    .dataframe tbody tr th:only-of-type {\n",
       "        vertical-align: middle;\n",
       "    }\n",
       "\n",
       "    .dataframe tbody tr th {\n",
       "        vertical-align: top;\n",
       "    }\n",
       "\n",
       "    .dataframe thead th {\n",
       "        text-align: right;\n",
       "    }\n",
       "</style>\n",
       "<table border=\"1\" class=\"dataframe\">\n",
       "  <thead>\n",
       "    <tr style=\"text-align: right;\">\n",
       "      <th></th>\n",
       "      <th>html</th>\n",
       "      <th>name</th>\n",
       "      <th>price</th>\n",
       "    </tr>\n",
       "  </thead>\n",
       "  <tbody>\n",
       "    <tr>\n",
       "      <th>0</th>\n",
       "      <td>&lt;div class=\"nav-secondary-links__header font-b...</td>\n",
       "      <td>NaN</td>\n",
       "      <td>NaN</td>\n",
       "    </tr>\n",
       "    <tr>\n",
       "      <th>1</th>\n",
       "      <td>&lt;a class=\"btn w-100 text-left btn-sm font-weig...</td>\n",
       "      <td>NaN</td>\n",
       "      <td>NaN</td>\n",
       "    </tr>\n",
       "    <tr>\n",
       "      <th>2</th>\n",
       "      <td>&lt;a class=\"btn w-100 text-left btn-sm text-dang...</td>\n",
       "      <td>NaN</td>\n",
       "      <td>NaN</td>\n",
       "    </tr>\n",
       "    <tr>\n",
       "      <th>3</th>\n",
       "      <td>&lt;a class=\"btn w-100 text-left btn-sm\" href=\"/p...</td>\n",
       "      <td>NaN</td>\n",
       "      <td>NaN</td>\n",
       "    </tr>\n",
       "    <tr>\n",
       "      <th>4</th>\n",
       "      <td>&lt;a class=\"btn w-100 text-left btn-sm\" href=\"/p...</td>\n",
       "      <td>NaN</td>\n",
       "      <td>NaN</td>\n",
       "    </tr>\n",
       "    <tr>\n",
       "      <th>...</th>\n",
       "      <td>...</td>\n",
       "      <td>...</td>\n",
       "      <td>...</td>\n",
       "    </tr>\n",
       "    <tr>\n",
       "      <th>175</th>\n",
       "      <td>&lt;a class=\"btn w-100 text-left btn-sm d-none\" h...</td>\n",
       "      <td>NaN</td>\n",
       "      <td>NaN</td>\n",
       "    </tr>\n",
       "    <tr>\n",
       "      <th>176</th>\n",
       "      <td>&lt;a class=\"btn w-100 text-left btn-sm d-none\" h...</td>\n",
       "      <td>NaN</td>\n",
       "      <td>NaN</td>\n",
       "    </tr>\n",
       "    <tr>\n",
       "      <th>177</th>\n",
       "      <td>&lt;a class=\"btn w-100 text-left btn-sm d-none\" h...</td>\n",
       "      <td>NaN</td>\n",
       "      <td>NaN</td>\n",
       "    </tr>\n",
       "    <tr>\n",
       "      <th>178</th>\n",
       "      <td>&lt;a class=\"btn w-100 text-left btn-sm d-none\" h...</td>\n",
       "      <td>NaN</td>\n",
       "      <td>NaN</td>\n",
       "    </tr>\n",
       "    <tr>\n",
       "      <th>179</th>\n",
       "      <td>&lt;a class=\"btn w-100 text-left btn-sm d-none\" h...</td>\n",
       "      <td>NaN</td>\n",
       "      <td>NaN</td>\n",
       "    </tr>\n",
       "  </tbody>\n",
       "</table>\n",
       "<p>180 rows × 3 columns</p>\n",
       "</div>"
      ],
      "text/plain": [
       "                                                  html  name  price\n",
       "0    <div class=\"nav-secondary-links__header font-b...   NaN    NaN\n",
       "1    <a class=\"btn w-100 text-left btn-sm font-weig...   NaN    NaN\n",
       "2    <a class=\"btn w-100 text-left btn-sm text-dang...   NaN    NaN\n",
       "3    <a class=\"btn w-100 text-left btn-sm\" href=\"/p...   NaN    NaN\n",
       "4    <a class=\"btn w-100 text-left btn-sm\" href=\"/p...   NaN    NaN\n",
       "..                                                 ...   ...    ...\n",
       "175  <a class=\"btn w-100 text-left btn-sm d-none\" h...   NaN    NaN\n",
       "176  <a class=\"btn w-100 text-left btn-sm d-none\" h...   NaN    NaN\n",
       "177  <a class=\"btn w-100 text-left btn-sm d-none\" h...   NaN    NaN\n",
       "178  <a class=\"btn w-100 text-left btn-sm d-none\" h...   NaN    NaN\n",
       "179  <a class=\"btn w-100 text-left btn-sm d-none\" h...   NaN    NaN\n",
       "\n",
       "[180 rows x 3 columns]"
      ]
     },
     "execution_count": 53,
     "metadata": {},
     "output_type": "execute_result"
    }
   ],
   "source": [
    "df"
   ]
  },
  {
   "cell_type": "code",
   "execution_count": null,
   "id": "3bd11d4b-50d1-4cdf-ad72-dee8ea3d69f6",
   "metadata": {},
   "outputs": [],
   "source": []
  }
 ],
 "metadata": {
  "kernelspec": {
   "display_name": "Python 3 (ipykernel)",
   "language": "python",
   "name": "python3"
  },
  "language_info": {
   "codemirror_mode": {
    "name": "ipython",
    "version": 3
   },
   "file_extension": ".py",
   "mimetype": "text/x-python",
   "name": "python",
   "nbconvert_exporter": "python",
   "pygments_lexer": "ipython3",
   "version": "3.12.4"
  }
 },
 "nbformat": 4,
 "nbformat_minor": 5
}
