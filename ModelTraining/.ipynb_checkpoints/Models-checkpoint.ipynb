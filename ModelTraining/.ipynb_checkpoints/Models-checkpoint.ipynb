{
 "cells": [
  {
   "cell_type": "code",
   "execution_count": 120,
   "id": "9e5614e9-300b-45e0-a62b-20e67821227b",
   "metadata": {},
   "outputs": [],
   "source": [
    "from sklearn.model_selection import train_test_split\n",
    "from sklearn.pipeline import Pipeline\n",
    "from sklearn.feature_extraction.text import TfidfVectorizer\n",
    "from sklearn.naive_bayes import MultinomialNB, ComplementNB\n",
    "from sklearn.svm import LinearSVC\n",
    "from sklearn.metrics import accuracy_score, classification_report\n",
    "import pandas as pd #read files\n",
    "from bs4 import BeautifulSoup\n",
    "import requests"
   ]
  },
  {
   "cell_type": "code",
   "execution_count": 122,
   "id": "5ae9733c-8104-4dcd-bcf7-ff6b3aacd591",
   "metadata": {},
   "outputs": [],
   "source": [
    "df = pd.read_csv('/Users/Tico/Documents/Masters/LaMona/ModelTraining/combinedElements.csv')"
   ]
  },
  {
   "cell_type": "code",
   "execution_count": 124,
   "id": "2bc98d16-7b37-4835-aa4e-a8d4fb85557e",
   "metadata": {},
   "outputs": [
    {
     "data": {
      "text/html": [
       "<div>\n",
       "<style scoped>\n",
       "    .dataframe tbody tr th:only-of-type {\n",
       "        vertical-align: middle;\n",
       "    }\n",
       "\n",
       "    .dataframe tbody tr th {\n",
       "        vertical-align: top;\n",
       "    }\n",
       "\n",
       "    .dataframe thead th {\n",
       "        text-align: right;\n",
       "    }\n",
       "</style>\n",
       "<table border=\"1\" class=\"dataframe\">\n",
       "  <thead>\n",
       "    <tr style=\"text-align: right;\">\n",
       "      <th></th>\n",
       "      <th>Unnamed: 0</th>\n",
       "      <th>html</th>\n",
       "      <th>name</th>\n",
       "      <th>price</th>\n",
       "      <th>category</th>\n",
       "    </tr>\n",
       "  </thead>\n",
       "  <tbody>\n",
       "    <tr>\n",
       "      <th>0</th>\n",
       "      <td>0</td>\n",
       "      <td>&lt;div class=\"shopify-section\" id=\"shopify-secti...</td>\n",
       "      <td>NaN</td>\n",
       "      <td>NaN</td>\n",
       "      <td>Not Product</td>\n",
       "    </tr>\n",
       "    <tr>\n",
       "      <th>1</th>\n",
       "      <td>1</td>\n",
       "      <td>&lt;div data-section-type=\"cart-drawer\"&gt;&lt;div clas...</td>\n",
       "      <td>NaN</td>\n",
       "      <td>NaN</td>\n",
       "      <td>Not Product</td>\n",
       "    </tr>\n",
       "    <tr>\n",
       "      <th>2</th>\n",
       "      <td>2</td>\n",
       "      <td>&lt;div class=\"cart-summary cart-summary--empty c...</td>\n",
       "      <td>NaN</td>\n",
       "      <td>NaN</td>\n",
       "      <td>Not Product</td>\n",
       "    </tr>\n",
       "    <tr>\n",
       "      <th>3</th>\n",
       "      <td>3</td>\n",
       "      <td>&lt;div aria-live=\"polite\" class=\"cart-summary__i...</td>\n",
       "      <td>NaN</td>\n",
       "      <td>NaN</td>\n",
       "      <td>Not Product</td>\n",
       "    </tr>\n",
       "    <tr>\n",
       "      <th>4</th>\n",
       "      <td>4</td>\n",
       "      <td>&lt;div class=\"cart-summary__header cart-summary_...</td>\n",
       "      <td>NaN</td>\n",
       "      <td>NaN</td>\n",
       "      <td>Not Product</td>\n",
       "    </tr>\n",
       "    <tr>\n",
       "      <th>...</th>\n",
       "      <td>...</td>\n",
       "      <td>...</td>\n",
       "      <td>...</td>\n",
       "      <td>...</td>\n",
       "      <td>...</td>\n",
       "    </tr>\n",
       "    <tr>\n",
       "      <th>2713</th>\n",
       "      <td>2713</td>\n",
       "      <td>&lt;li class=\"grid__item\"&gt;\\n&lt;link href=\"//thecabi...</td>\n",
       "      <td>2 Drawer TV Stand M1</td>\n",
       "      <td>£239.59 GBP</td>\n",
       "      <td>Product</td>\n",
       "    </tr>\n",
       "    <tr>\n",
       "      <th>2714</th>\n",
       "      <td>2714</td>\n",
       "      <td>&lt;li class=\"grid__item\"&gt;\\n&lt;link href=\"//thecabi...</td>\n",
       "      <td>Mid Quad Bookcase M1</td>\n",
       "      <td>£0.00 GBP</td>\n",
       "      <td>Product</td>\n",
       "    </tr>\n",
       "    <tr>\n",
       "      <th>2715</th>\n",
       "      <td>2715</td>\n",
       "      <td>&lt;li class=\"grid__item\"&gt;\\n&lt;link href=\"//thecabi...</td>\n",
       "      <td>Low Quad Bookcase M1</td>\n",
       "      <td>£181.76 GBP</td>\n",
       "      <td>Product</td>\n",
       "    </tr>\n",
       "    <tr>\n",
       "      <th>2716</th>\n",
       "      <td>2716</td>\n",
       "      <td>&lt;li class=\"grid__item\"&gt;\\n&lt;link href=\"//thecabi...</td>\n",
       "      <td>Low 6 Drawer Chest M2</td>\n",
       "      <td>£364.62 GBP</td>\n",
       "      <td>Product</td>\n",
       "    </tr>\n",
       "    <tr>\n",
       "      <th>2717</th>\n",
       "      <td>2717</td>\n",
       "      <td>&lt;li class=\"grid__item\"&gt;\\n&lt;link href=\"//thecabi...</td>\n",
       "      <td>Low Triple Cupboard M2</td>\n",
       "      <td>£210.45 GBP</td>\n",
       "      <td>Product</td>\n",
       "    </tr>\n",
       "  </tbody>\n",
       "</table>\n",
       "<p>2718 rows × 5 columns</p>\n",
       "</div>"
      ],
      "text/plain": [
       "      Unnamed: 0                                               html  \\\n",
       "0              0  <div class=\"shopify-section\" id=\"shopify-secti...   \n",
       "1              1  <div data-section-type=\"cart-drawer\"><div clas...   \n",
       "2              2  <div class=\"cart-summary cart-summary--empty c...   \n",
       "3              3  <div aria-live=\"polite\" class=\"cart-summary__i...   \n",
       "4              4  <div class=\"cart-summary__header cart-summary_...   \n",
       "...          ...                                                ...   \n",
       "2713        2713  <li class=\"grid__item\">\\n<link href=\"//thecabi...   \n",
       "2714        2714  <li class=\"grid__item\">\\n<link href=\"//thecabi...   \n",
       "2715        2715  <li class=\"grid__item\">\\n<link href=\"//thecabi...   \n",
       "2716        2716  <li class=\"grid__item\">\\n<link href=\"//thecabi...   \n",
       "2717        2717  <li class=\"grid__item\">\\n<link href=\"//thecabi...   \n",
       "\n",
       "                        name        price     category  \n",
       "0                        NaN          NaN  Not Product  \n",
       "1                        NaN          NaN  Not Product  \n",
       "2                        NaN          NaN  Not Product  \n",
       "3                        NaN          NaN  Not Product  \n",
       "4                        NaN          NaN  Not Product  \n",
       "...                      ...          ...          ...  \n",
       "2713    2 Drawer TV Stand M1  £239.59 GBP      Product  \n",
       "2714    Mid Quad Bookcase M1    £0.00 GBP      Product  \n",
       "2715    Low Quad Bookcase M1  £181.76 GBP      Product  \n",
       "2716   Low 6 Drawer Chest M2  £364.62 GBP      Product  \n",
       "2717  Low Triple Cupboard M2  £210.45 GBP      Product  \n",
       "\n",
       "[2718 rows x 5 columns]"
      ]
     },
     "execution_count": 124,
     "metadata": {},
     "output_type": "execute_result"
    }
   ],
   "source": [
    "df"
   ]
  },
  {
   "cell_type": "code",
   "execution_count": 126,
   "id": "73198680-55ad-4d25-9024-caf4c48bc228",
   "metadata": {},
   "outputs": [],
   "source": [
    "X = df['html']\n",
    "y = df['category']"
   ]
  },
  {
   "cell_type": "code",
   "execution_count": 128,
   "id": "28a0dfa5-eadf-4f49-9cfa-c065fe9fce2e",
   "metadata": {},
   "outputs": [],
   "source": [
    "X_train, X_test, y_train, y_test = train_test_split(X,y, test_size=0.2, random_state=22)"
   ]
  },
  {
   "cell_type": "code",
   "execution_count": 130,
   "id": "18c2c227-60f4-484e-9710-65b465e84154",
   "metadata": {},
   "outputs": [],
   "source": [
    "#tdidf turns textual data into numerical format\n",
    "pipeMNB = Pipeline([('tfidf',TfidfVectorizer()),('clf',MultinomialNB())])\n",
    "pipeCNB = Pipeline([('tfidf',TfidfVectorizer()),('clf',ComplementNB())])\n",
    "pipeSVC = Pipeline([('tfidf',TfidfVectorizer()),('clf',LinearSVC())])"
   ]
  },
  {
   "cell_type": "code",
   "execution_count": 132,
   "id": "5ffa8b0a-8f24-4af3-b26e-328f98f783e7",
   "metadata": {},
   "outputs": [
    {
     "name": "stdout",
     "output_type": "stream",
     "text": [
      "MNB score is: 0.9852941176470589\n"
     ]
    }
   ],
   "source": [
    "#training mnb\n",
    "pipeMNB.fit(X_train, y_train)\n",
    "predictMNB = pipeMNB.predict(X_test)\n",
    "print(f\"MNB score is: \"+str(accuracy_score(y_test,predictMNB)))"
   ]
  },
  {
   "cell_type": "code",
   "execution_count": 134,
   "id": "88efd25f-38d9-4767-8956-e0db6cbbb37e",
   "metadata": {},
   "outputs": [
    {
     "name": "stdout",
     "output_type": "stream",
     "text": [
      "CNB score is: 0.9908088235294118\n"
     ]
    }
   ],
   "source": [
    "#training cnb\n",
    "pipeCNB.fit(X_train, y_train)\n",
    "predictCNB = pipeCNB.predict(X_test)\n",
    "print(f\"CNB score is: \"+str(accuracy_score(y_test,predictCNB)))"
   ]
  },
  {
   "cell_type": "code",
   "execution_count": 136,
   "id": "6f221edd-23d2-482c-95c9-bf2d9e17bbd1",
   "metadata": {},
   "outputs": [
    {
     "name": "stderr",
     "output_type": "stream",
     "text": [
      "/opt/anaconda3/lib/python3.12/site-packages/sklearn/svm/_classes.py:31: FutureWarning: The default value of `dual` will change from `True` to `'auto'` in 1.5. Set the value of `dual` explicitly to suppress the warning.\n",
      "  warnings.warn(\n"
     ]
    },
    {
     "name": "stdout",
     "output_type": "stream",
     "text": [
      "SVC score is: 1.0\n"
     ]
    }
   ],
   "source": [
    "#training svc\n",
    "pipeSVC.fit(X_train, y_train)\n",
    "predictSVC = pipeSVC.predict(X_test)\n",
    "print(f\"SVC score is: \"+str(accuracy_score(y_test,predictSVC)))"
   ]
  },
  {
   "cell_type": "code",
   "execution_count": 138,
   "id": "283f0b66-34b1-4078-85f7-d30a53aa7e3b",
   "metadata": {},
   "outputs": [
    {
     "name": "stdout",
     "output_type": "stream",
     "text": [
      "              precision    recall  f1-score   support\n",
      "\n",
      " Not Product       1.00      1.00      1.00       235\n",
      "     Product       1.00      1.00      1.00       309\n",
      "\n",
      "    accuracy                           1.00       544\n",
      "   macro avg       1.00      1.00      1.00       544\n",
      "weighted avg       1.00      1.00      1.00       544\n",
      "\n"
     ]
    }
   ],
   "source": [
    "#check accuracy of models\n",
    "print(classification_report(y_test,predictSVC))"
   ]
  },
  {
   "cell_type": "code",
   "execution_count": 140,
   "id": "0a32733e-c9fd-4fae-b4e7-700edfe815b6",
   "metadata": {},
   "outputs": [],
   "source": [
    "test = \"\"\"<li class=\"grid__item\">\n",
    "<link href=\"//thecabinetshop.co.uk/cdn/shop/t/18/assets/component-rating.css?v=24573085263941240431657786494\" media=\"all\" rel=\"stylesheet\" type=\"text/css\">\n",
    "<div class=\"card-wrapper underline-links-hover\">\n",
    "<div class=\"card card--standard card--media\" style=\"--ratio-percent: 100.0%;\">\n",
    "<div class=\"card__inner color-background-2 gradient ratio\" style=\"--ratio-percent: 100.0%;\"><div class=\"card__media\">\n",
    "<div class=\"media media--transparent media--hover-effect\">\n",
    "<img alt=\"Made to Measure Door\" class=\"motion-reduce\" height=\"1600\" sizes=\"(min-width: 1600px) 367px, (min-width: 990px) calc((100vw - 130px) / 4), (min-width: 750px) calc((100vw - 120px) / 3), calc((100vw - 35px) / 2)\" src=\"//thecabinetshop.co.uk/cdn/shop/products/SHAKERDOORS1.png?v=1659956469&amp;width=533\" srcset=\"//thecabinetshop.co.uk/cdn/shop/products/SHAKERDOORS1.png?v=1659956469&amp;width=165 165w,//thecabinetshop.co.uk/cdn/shop/products/SHAKERDOORS1.png?v=1659956469&amp;width=360 360w,//thecabinetshop.co.uk/cdn/shop/products/SHAKERDOORS1.png?v=1659956469&amp;width=533 533w,//thecabinetshop.co.uk/cdn/shop/products/SHAKERDOORS1.png?v=1659956469&amp;width=720 720w,//thecabinetshop.co.uk/cdn/shop/products/SHAKERDOORS1.png?v=1659956469&amp;width=940 940w,//thecabinetshop.co.uk/cdn/shop/products/SHAKERDOORS1.png?v=1659956469&amp;width=1066 1066w,//thecabinetshop.co.uk/cdn/shop/products/SHAKERDOORS1.png?v=1659956469 1600w\" width=\"1600\"/>\n",
    "</div>\n",
    "</div><div class=\"card__content\">\n",
    "<div class=\"card__information\">\n",
    "<h3 class=\"card__heading\">\n",
    "<a aria-labelledby=\"StandardCardNoMediaLink-template--14560278282294__product-grid-4784571809846 NoMediaStandardBadge-template--14560278282294__product-grid-4784571809846\" class=\"full-unstyled-link\" href=\"/products/bespoke-doors\" id=\"StandardCardNoMediaLink-template--14560278282294__product-grid-4784571809846\">\n",
    "                Made to Measure Door\n",
    "              </a>\n",
    "</h3>\n",
    "</div>\n",
    "<div class=\"card__badge bottom left\"></div>\n",
    "</div>\n",
    "</div>\n",
    "<div class=\"card__content\">\n",
    "<div class=\"card__information\">\n",
    "<h3 class=\"card__heading h5\" id=\"title-template--14560278282294__product-grid-4784571809846\">\n",
    "<a aria-labelledby=\"CardLink-template--14560278282294__product-grid-4784571809846 Badge-template--14560278282294__product-grid-4784571809846\" class=\"full-unstyled-link\" href=\"/products/bespoke-doors\" id=\"CardLink-template--14560278282294__product-grid-4784571809846\">\n",
    "              Made to Measure Door\n",
    "            </a>\n",
    "</h3>\n",
    "<div class=\"card-information\"><span class=\"caption-large light\"></span>\n",
    "<div class=\"price\">\n",
    "<div class=\"price__container\"><div class=\"price__regular\">\n",
    "<span class=\"visually-hidden visually-hidden--inline\">Regular price</span>\n",
    "<span class=\"price-item price-item--regular\">\n",
    "        From ¬£11.52 GBP\n",
    "      </span>\n",
    "</div>\n",
    "<div class=\"price__sale\">\n",
    "<span class=\"visually-hidden visually-hidden--inline\">Regular price</span>\n",
    "<span>\n",
    "<s class=\"price-item price-item--regular\">\n",
    "</s>\n",
    "</span><span class=\"visually-hidden visually-hidden--inline\">Sale price</span>\n",
    "<span class=\"price-item price-item--sale price-item--last\">\n",
    "        From ¬£11.52 GBP\n",
    "      </span>\n",
    "</div>\n",
    "<small class=\"unit-price caption hidden\">\n",
    "<span class=\"visually-hidden\">Unit price</span>\n",
    "<span class=\"price-item price-item--last\">\n",
    "<span></span>\n",
    "<span aria-hidden=\"true\">/</span>\n",
    "<span class=\"visually-hidden\">¬†per¬†</span>\n",
    "<span>\n",
    "</span>\n",
    "</span>\n",
    "</small>\n",
    "</div></div>\n",
    "</div>\n",
    "</div><div class=\"card__badge bottom left\"></div>\n",
    "</div>\n",
    "</div>\n",
    "</div>\n",
    "</link></li>\n",
    "\"\"\""
   ]
  },
  {
   "cell_type": "code",
   "execution_count": 142,
   "id": "2b06983b-4042-4dcb-a4a1-24068a834c1e",
   "metadata": {},
   "outputs": [
    {
     "data": {
      "text/plain": [
       "array(['Product'], dtype=object)"
      ]
     },
     "execution_count": 142,
     "metadata": {},
     "output_type": "execute_result"
    }
   ],
   "source": [
    "pipeSVC.predict([test])\n"
   ]
  },
  {
   "cell_type": "code",
   "execution_count": 144,
   "id": "ac8e3bfb-94c7-4f9d-83dc-7a9278619e31",
   "metadata": {},
   "outputs": [
    {
     "data": {
      "text/plain": [
       "array(['Product'], dtype='<U11')"
      ]
     },
     "execution_count": 144,
     "metadata": {},
     "output_type": "execute_result"
    }
   ],
   "source": [
    "pipeMNB.predict([test])"
   ]
  },
  {
   "cell_type": "code",
   "execution_count": 146,
   "id": "84924e69-66d6-4a08-83d2-cd9ea6ea0629",
   "metadata": {},
   "outputs": [
    {
     "data": {
      "text/plain": [
       "array(['Product'], dtype='<U11')"
      ]
     },
     "execution_count": 146,
     "metadata": {},
     "output_type": "execute_result"
    }
   ],
   "source": [
    "pipeCNB.predict([test])"
   ]
  },
  {
   "cell_type": "code",
   "execution_count": 148,
   "id": "074ce401-3acc-4392-945e-c116f91af3d5",
   "metadata": {},
   "outputs": [],
   "source": [
    "url = \"https://www.yoursclothing.co.uk/collections/crops-shorts\"\n",
    "response = requests.get(url)\n",
    "soup = BeautifulSoup(response.content,'html.parser')\n",
    "products = []\n",
    "divs = soup.find_all('div')\n",
    "for script in soup(\"script\"):\n",
    "    script.decompose()\n",
    "for noscript in soup(\"noscript\"):\n",
    "    noscript.decompose()\n",
    "\n",
    "for style in soup(\"style\"):\n",
    "    style.decompose()\n",
    "\n",
    "for svg in soup(\"svg\"):\n",
    "    svg.decompose()\n",
    "\n",
    "for meta in soup(\"meta\"):\n",
    "    meta.decompose() "
   ]
  },
  {
   "cell_type": "code",
   "execution_count": 150,
   "id": "43e272aa-e659-405b-9061-9df4c421836d",
   "metadata": {},
   "outputs": [],
   "source": [
    "products=[]\n",
    "for child in divs:\n",
    "    if pipeMNB.predict([str(child)]) == ['Product']:\n",
    "        products.append(child)"
   ]
  },
  {
   "cell_type": "code",
   "execution_count": 151,
   "id": "806a91fe-6784-44dc-94ba-ef76fd3a6c2d",
   "metadata": {},
   "outputs": [
    {
     "data": {
      "text/plain": [
       "1620"
      ]
     },
     "execution_count": 151,
     "metadata": {},
     "output_type": "execute_result"
    }
   ],
   "source": [
    "len(products)"
   ]
  },
  {
   "cell_type": "code",
   "execution_count": 156,
   "id": "d3711305-8e2a-40e5-bcae-d11bd102cb6c",
   "metadata": {},
   "outputs": [
    {
     "data": {
      "text/plain": [
       "4806"
      ]
     },
     "execution_count": 156,
     "metadata": {},
     "output_type": "execute_result"
    }
   ],
   "source": [
    "products=[]\n",
    "for child in divs:\n",
    "    if pipeCNB.predict([str(child)]) == ['Product']:\n",
    "        products.append(child)\n",
    "len(products)"
   ]
  },
  {
   "cell_type": "code",
   "execution_count": 158,
   "id": "426194b4-7ca1-4608-ac4a-199b22dec964",
   "metadata": {},
   "outputs": [
    {
     "data": {
      "text/plain": [
       "5946"
      ]
     },
     "execution_count": 158,
     "metadata": {},
     "output_type": "execute_result"
    }
   ],
   "source": [
    "products=[]\n",
    "for child in divs:\n",
    "    if pipeSVC.predict([str(child)]) == ['Product']:\n",
    "        products.append(child)\n",
    "len(products)"
   ]
  },
  {
   "cell_type": "code",
   "execution_count": null,
   "id": "20535b26-0fea-4b1a-b287-280c304504d9",
   "metadata": {},
   "outputs": [],
   "source": []
  }
 ],
 "metadata": {
  "kernelspec": {
   "display_name": "Python 3 (ipykernel)",
   "language": "python",
   "name": "python3"
  },
  "language_info": {
   "codemirror_mode": {
    "name": "ipython",
    "version": 3
   },
   "file_extension": ".py",
   "mimetype": "text/x-python",
   "name": "python",
   "nbconvert_exporter": "python",
   "pygments_lexer": "ipython3",
   "version": "3.12.4"
  }
 },
 "nbformat": 4,
 "nbformat_minor": 5
}
