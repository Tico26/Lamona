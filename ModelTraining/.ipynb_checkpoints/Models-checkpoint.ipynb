{
 "cells": [
  {
   "cell_type": "code",
   "execution_count": 55,
   "id": "9e5614e9-300b-45e0-a62b-20e67821227b",
   "metadata": {},
   "outputs": [],
   "source": [
    "from sklearn.model_selection import train_test_split\n",
    "from sklearn.pipeline import Pipeline\n",
    "from sklearn.feature_extraction.text import TfidfVectorizer\n",
    "from sklearn.naive_bayes import MultinomialNB, ComplementNB\n",
    "from sklearn.svm import LinearSVC\n",
    "from sklearn.metrics import accuracy_score, classification_report\n",
    "import pandas as pd #read files"
   ]
  },
  {
   "cell_type": "code",
   "execution_count": 57,
   "id": "5ae9733c-8104-4dcd-bcf7-ff6b3aacd591",
   "metadata": {},
   "outputs": [],
   "source": [
    "df = pd.read_csv('/Users/Tico/Documents/Masters/LaMona/ModelTraining/combinedElements.csv')"
   ]
  },
  {
   "cell_type": "code",
   "execution_count": 59,
   "id": "2bc98d16-7b37-4835-aa4e-a8d4fb85557e",
   "metadata": {},
   "outputs": [
    {
     "data": {
      "text/html": [
       "<div>\n",
       "<style scoped>\n",
       "    .dataframe tbody tr th:only-of-type {\n",
       "        vertical-align: middle;\n",
       "    }\n",
       "\n",
       "    .dataframe tbody tr th {\n",
       "        vertical-align: top;\n",
       "    }\n",
       "\n",
       "    .dataframe thead th {\n",
       "        text-align: right;\n",
       "    }\n",
       "</style>\n",
       "<table border=\"1\" class=\"dataframe\">\n",
       "  <thead>\n",
       "    <tr style=\"text-align: right;\">\n",
       "      <th></th>\n",
       "      <th>Unnamed: 0</th>\n",
       "      <th>html</th>\n",
       "      <th>name</th>\n",
       "      <th>price</th>\n",
       "      <th>category</th>\n",
       "    </tr>\n",
       "  </thead>\n",
       "  <tbody>\n",
       "    <tr>\n",
       "      <th>0</th>\n",
       "      <td>0</td>\n",
       "      <td>&lt;li class=\"disclosure-list__item\"&gt;\\n&lt;a class=\"...</td>\n",
       "      <td>NaN</td>\n",
       "      <td>NaN</td>\n",
       "      <td>Not Product</td>\n",
       "    </tr>\n",
       "    <tr>\n",
       "      <th>1</th>\n",
       "      <td>1</td>\n",
       "      <td>&lt;a class=\"disclosure-list__option disclosure-o...</td>\n",
       "      <td>NaN</td>\n",
       "      <td>NaN</td>\n",
       "      <td>Not Product</td>\n",
       "    </tr>\n",
       "    <tr>\n",
       "      <th>2</th>\n",
       "      <td>2</td>\n",
       "      <td>&lt;span class=\"disclosure-option-with-parts__par...</td>\n",
       "      <td>NaN</td>\n",
       "      <td>NaN</td>\n",
       "      <td>Not Product</td>\n",
       "    </tr>\n",
       "    <tr>\n",
       "      <th>3</th>\n",
       "      <td>3</td>\n",
       "      <td>&lt;span class=\"disclosure-option-with-parts__par...</td>\n",
       "      <td>NaN</td>\n",
       "      <td>NaN</td>\n",
       "      <td>Not Product</td>\n",
       "    </tr>\n",
       "    <tr>\n",
       "      <th>4</th>\n",
       "      <td>4</td>\n",
       "      <td>&lt;li class=\"disclosure-list__item\"&gt;\\n&lt;a class=\"...</td>\n",
       "      <td>NaN</td>\n",
       "      <td>NaN</td>\n",
       "      <td>Not Product</td>\n",
       "    </tr>\n",
       "    <tr>\n",
       "      <th>...</th>\n",
       "      <td>...</td>\n",
       "      <td>...</td>\n",
       "      <td>...</td>\n",
       "      <td>...</td>\n",
       "      <td>...</td>\n",
       "    </tr>\n",
       "    <tr>\n",
       "      <th>2308</th>\n",
       "      <td>2308</td>\n",
       "      <td>&lt;li class=\"grid__item\"&gt;\\n&lt;link href=\"//thecabi...</td>\n",
       "      <td>2 Drawer TV Stand M1</td>\n",
       "      <td>£239.59 GBP</td>\n",
       "      <td>Product</td>\n",
       "    </tr>\n",
       "    <tr>\n",
       "      <th>2309</th>\n",
       "      <td>2309</td>\n",
       "      <td>&lt;li class=\"grid__item\"&gt;\\n&lt;link href=\"//thecabi...</td>\n",
       "      <td>Mid Quad Bookcase M1</td>\n",
       "      <td>£0.00 GBP</td>\n",
       "      <td>Product</td>\n",
       "    </tr>\n",
       "    <tr>\n",
       "      <th>2310</th>\n",
       "      <td>2310</td>\n",
       "      <td>&lt;li class=\"grid__item\"&gt;\\n&lt;link href=\"//thecabi...</td>\n",
       "      <td>Low Quad Bookcase M1</td>\n",
       "      <td>£181.76 GBP</td>\n",
       "      <td>Product</td>\n",
       "    </tr>\n",
       "    <tr>\n",
       "      <th>2311</th>\n",
       "      <td>2311</td>\n",
       "      <td>&lt;li class=\"grid__item\"&gt;\\n&lt;link href=\"//thecabi...</td>\n",
       "      <td>Low 6 Drawer Chest M2</td>\n",
       "      <td>£364.62 GBP</td>\n",
       "      <td>Product</td>\n",
       "    </tr>\n",
       "    <tr>\n",
       "      <th>2312</th>\n",
       "      <td>2312</td>\n",
       "      <td>&lt;li class=\"grid__item\"&gt;\\n&lt;link href=\"//thecabi...</td>\n",
       "      <td>Low Triple Cupboard M2</td>\n",
       "      <td>£210.45 GBP</td>\n",
       "      <td>Product</td>\n",
       "    </tr>\n",
       "  </tbody>\n",
       "</table>\n",
       "<p>2313 rows × 5 columns</p>\n",
       "</div>"
      ],
      "text/plain": [
       "      Unnamed: 0                                               html  \\\n",
       "0              0  <li class=\"disclosure-list__item\">\\n<a class=\"...   \n",
       "1              1  <a class=\"disclosure-list__option disclosure-o...   \n",
       "2              2  <span class=\"disclosure-option-with-parts__par...   \n",
       "3              3  <span class=\"disclosure-option-with-parts__par...   \n",
       "4              4  <li class=\"disclosure-list__item\">\\n<a class=\"...   \n",
       "...          ...                                                ...   \n",
       "2308        2308  <li class=\"grid__item\">\\n<link href=\"//thecabi...   \n",
       "2309        2309  <li class=\"grid__item\">\\n<link href=\"//thecabi...   \n",
       "2310        2310  <li class=\"grid__item\">\\n<link href=\"//thecabi...   \n",
       "2311        2311  <li class=\"grid__item\">\\n<link href=\"//thecabi...   \n",
       "2312        2312  <li class=\"grid__item\">\\n<link href=\"//thecabi...   \n",
       "\n",
       "                        name        price     category  \n",
       "0                        NaN          NaN  Not Product  \n",
       "1                        NaN          NaN  Not Product  \n",
       "2                        NaN          NaN  Not Product  \n",
       "3                        NaN          NaN  Not Product  \n",
       "4                        NaN          NaN  Not Product  \n",
       "...                      ...          ...          ...  \n",
       "2308    2 Drawer TV Stand M1  £239.59 GBP      Product  \n",
       "2309    Mid Quad Bookcase M1    £0.00 GBP      Product  \n",
       "2310    Low Quad Bookcase M1  £181.76 GBP      Product  \n",
       "2311   Low 6 Drawer Chest M2  £364.62 GBP      Product  \n",
       "2312  Low Triple Cupboard M2  £210.45 GBP      Product  \n",
       "\n",
       "[2313 rows x 5 columns]"
      ]
     },
     "execution_count": 59,
     "metadata": {},
     "output_type": "execute_result"
    }
   ],
   "source": [
    "df"
   ]
  },
  {
   "cell_type": "code",
   "execution_count": 61,
   "id": "73198680-55ad-4d25-9024-caf4c48bc228",
   "metadata": {},
   "outputs": [],
   "source": [
    "X = df['html']\n",
    "y = df['category']"
   ]
  },
  {
   "cell_type": "code",
   "execution_count": 63,
   "id": "28a0dfa5-eadf-4f49-9cfa-c065fe9fce2e",
   "metadata": {},
   "outputs": [],
   "source": [
    "X_train, X_test, y_train, y_test = train_test_split(X,y, test_size=0.2, random_state=22)"
   ]
  },
  {
   "cell_type": "code",
   "execution_count": 65,
   "id": "18c2c227-60f4-484e-9710-65b465e84154",
   "metadata": {},
   "outputs": [],
   "source": [
    "#tdidf turns textual data into numerical format\n",
    "pipeMNB = Pipeline([('tfidf',TfidfVectorizer()),('clf',MultinomialNB())])\n",
    "pipeCNB = Pipeline([('tfidf',TfidfVectorizer()),('clf',ComplementNB())])\n",
    "pipeSVC = Pipeline([('tfidf',TfidfVectorizer()),('clf',LinearSVC())])"
   ]
  },
  {
   "cell_type": "code",
   "execution_count": 81,
   "id": "5ffa8b0a-8f24-4af3-b26e-328f98f783e7",
   "metadata": {},
   "outputs": [
    {
     "name": "stdout",
     "output_type": "stream",
     "text": [
      "MNB score is: 0.9848812095032398\n"
     ]
    }
   ],
   "source": [
    "#training mnb\n",
    "pipeMNB.fit(X_train, y_train)\n",
    "predictMNB = pipeMNB.predict(X_test)\n",
    "print(f\"MNB score is: \"+str(accuracy_score(y_test,predictMNB)))"
   ]
  },
  {
   "cell_type": "code",
   "execution_count": 85,
   "id": "88efd25f-38d9-4767-8956-e0db6cbbb37e",
   "metadata": {},
   "outputs": [
    {
     "name": "stdout",
     "output_type": "stream",
     "text": [
      "CNB score is: 0.980561555075594\n"
     ]
    }
   ],
   "source": [
    "#training cnb\n",
    "pipeCNB.fit(X_train, y_train)\n",
    "predictCNB = pipeCNB.predict(X_test)\n",
    "print(f\"CNB score is: \"+str(accuracy_score(y_test,predictCNB)))"
   ]
  },
  {
   "cell_type": "code",
   "execution_count": 87,
   "id": "6f221edd-23d2-482c-95c9-bf2d9e17bbd1",
   "metadata": {},
   "outputs": [
    {
     "name": "stdout",
     "output_type": "stream",
     "text": [
      "SVC score is: 1.0\n"
     ]
    },
    {
     "name": "stderr",
     "output_type": "stream",
     "text": [
      "/opt/anaconda3/lib/python3.12/site-packages/sklearn/svm/_classes.py:31: FutureWarning: The default value of `dual` will change from `True` to `'auto'` in 1.5. Set the value of `dual` explicitly to suppress the warning.\n",
      "  warnings.warn(\n"
     ]
    }
   ],
   "source": [
    "#training svc\n",
    "pipeSVC.fit(X_train, y_train)\n",
    "predictSVC = pipeSVC.predict(X_test)\n",
    "print(f\"SVC score is: \"+str(accuracy_score(y_test,predictSVC)))"
   ]
  },
  {
   "cell_type": "code",
   "execution_count": 91,
   "id": "283f0b66-34b1-4078-85f7-d30a53aa7e3b",
   "metadata": {},
   "outputs": [
    {
     "name": "stdout",
     "output_type": "stream",
     "text": [
      "              precision    recall  f1-score   support\n",
      "\n",
      " Not Product       1.00      1.00      1.00       251\n",
      "     Product       1.00      1.00      1.00       212\n",
      "\n",
      "    accuracy                           1.00       463\n",
      "   macro avg       1.00      1.00      1.00       463\n",
      "weighted avg       1.00      1.00      1.00       463\n",
      "\n"
     ]
    }
   ],
   "source": [
    "#check accuracy of models\n",
    "print(classification_report(y_test,predictSVC))"
   ]
  },
  {
   "cell_type": "code",
   "execution_count": 95,
   "id": "0a32733e-c9fd-4fae-b4e7-700edfe815b6",
   "metadata": {},
   "outputs": [],
   "source": [
    "test = \"\"\"<li class=\"grid__item\">\n",
    "<link href=\"//thecabinetshop.co.uk/cdn/shop/t/18/assets/component-rating.css?v=24573085263941240431657786494\" media=\"all\" rel=\"stylesheet\" type=\"text/css\">\n",
    "<div class=\"card-wrapper underline-links-hover\">\n",
    "<div class=\"card card--standard card--media\" style=\"--ratio-percent: 100.0%;\">\n",
    "<div class=\"card__inner color-background-2 gradient ratio\" style=\"--ratio-percent: 100.0%;\"><div class=\"card__media\">\n",
    "<div class=\"media media--transparent media--hover-effect\">\n",
    "<img alt=\"Made to Measure Door\" class=\"motion-reduce\" height=\"1600\" sizes=\"(min-width: 1600px) 367px, (min-width: 990px) calc((100vw - 130px) / 4), (min-width: 750px) calc((100vw - 120px) / 3), calc((100vw - 35px) / 2)\" src=\"//thecabinetshop.co.uk/cdn/shop/products/SHAKERDOORS1.png?v=1659956469&amp;width=533\" srcset=\"//thecabinetshop.co.uk/cdn/shop/products/SHAKERDOORS1.png?v=1659956469&amp;width=165 165w,//thecabinetshop.co.uk/cdn/shop/products/SHAKERDOORS1.png?v=1659956469&amp;width=360 360w,//thecabinetshop.co.uk/cdn/shop/products/SHAKERDOORS1.png?v=1659956469&amp;width=533 533w,//thecabinetshop.co.uk/cdn/shop/products/SHAKERDOORS1.png?v=1659956469&amp;width=720 720w,//thecabinetshop.co.uk/cdn/shop/products/SHAKERDOORS1.png?v=1659956469&amp;width=940 940w,//thecabinetshop.co.uk/cdn/shop/products/SHAKERDOORS1.png?v=1659956469&amp;width=1066 1066w,//thecabinetshop.co.uk/cdn/shop/products/SHAKERDOORS1.png?v=1659956469 1600w\" width=\"1600\"/>\n",
    "</div>\n",
    "</div><div class=\"card__content\">\n",
    "<div class=\"card__information\">\n",
    "<h3 class=\"card__heading\">\n",
    "<a aria-labelledby=\"StandardCardNoMediaLink-template--14560278282294__product-grid-4784571809846 NoMediaStandardBadge-template--14560278282294__product-grid-4784571809846\" class=\"full-unstyled-link\" href=\"/products/bespoke-doors\" id=\"StandardCardNoMediaLink-template--14560278282294__product-grid-4784571809846\">\n",
    "                Made to Measure Door\n",
    "              </a>\n",
    "</h3>\n",
    "</div>\n",
    "<div class=\"card__badge bottom left\"></div>\n",
    "</div>\n",
    "</div>\n",
    "<div class=\"card__content\">\n",
    "<div class=\"card__information\">\n",
    "<h3 class=\"card__heading h5\" id=\"title-template--14560278282294__product-grid-4784571809846\">\n",
    "<a aria-labelledby=\"CardLink-template--14560278282294__product-grid-4784571809846 Badge-template--14560278282294__product-grid-4784571809846\" class=\"full-unstyled-link\" href=\"/products/bespoke-doors\" id=\"CardLink-template--14560278282294__product-grid-4784571809846\">\n",
    "              Made to Measure Door\n",
    "            </a>\n",
    "</h3>\n",
    "<div class=\"card-information\"><span class=\"caption-large light\"></span>\n",
    "<div class=\"price\">\n",
    "<div class=\"price__container\"><div class=\"price__regular\">\n",
    "<span class=\"visually-hidden visually-hidden--inline\">Regular price</span>\n",
    "<span class=\"price-item price-item--regular\">\n",
    "        From ¬£11.52 GBP\n",
    "      </span>\n",
    "</div>\n",
    "<div class=\"price__sale\">\n",
    "<span class=\"visually-hidden visually-hidden--inline\">Regular price</span>\n",
    "<span>\n",
    "<s class=\"price-item price-item--regular\">\n",
    "</s>\n",
    "</span><span class=\"visually-hidden visually-hidden--inline\">Sale price</span>\n",
    "<span class=\"price-item price-item--sale price-item--last\">\n",
    "        From ¬£11.52 GBP\n",
    "      </span>\n",
    "</div>\n",
    "<small class=\"unit-price caption hidden\">\n",
    "<span class=\"visually-hidden\">Unit price</span>\n",
    "<span class=\"price-item price-item--last\">\n",
    "<span></span>\n",
    "<span aria-hidden=\"true\">/</span>\n",
    "<span class=\"visually-hidden\">¬†per¬†</span>\n",
    "<span>\n",
    "</span>\n",
    "</span>\n",
    "</small>\n",
    "</div></div>\n",
    "</div>\n",
    "</div><div class=\"card__badge bottom left\"></div>\n",
    "</div>\n",
    "</div>\n",
    "</div>\n",
    "</link></li>\n",
    "\"\"\""
   ]
  },
  {
   "cell_type": "code",
   "execution_count": 99,
   "id": "2b06983b-4042-4dcb-a4a1-24068a834c1e",
   "metadata": {},
   "outputs": [
    {
     "data": {
      "text/plain": [
       "'\\n<li class=\"grid__item\">\\n<link href=\"//thecabinetshop.co.uk/cdn/shop/t/18/assets/component-rating.css?v=24573085263941240431657786494\" media=\"all\" rel=\"stylesheet\" type=\"text/css\">\\n<div class=\"card-wrapper underline-links-hover\">\\n<div class=\"card card--standard card--media\" style=\"--ratio-percent: 100.0%;\">\\n<div class=\"card__inner color-background-2 gradient ratio\" style=\"--ratio-percent: 100.0%;\"><div class=\"card__media\">\\n<div class=\"media media--transparent media--hover-effect\">\\n<img alt=\"Made to Measure Door\" class=\"motion-reduce\" height=\"1600\" sizes=\"(min-width: 1600px) 367px, (min-width: 990px) calc((100vw - 130px) / 4), (min-width: 750px) calc((100vw - 120px) / 3), calc((100vw - 35px) / 2)\" src=\"//thecabinetshop.co.uk/cdn/shop/products/SHAKERDOORS1.png?v=1659956469&amp;width=533\" srcset=\"//thecabinetshop.co.uk/cdn/shop/products/SHAKERDOORS1.png?v=1659956469&amp;width=165 165w,//thecabinetshop.co.uk/cdn/shop/products/SHAKERDOORS1.png?v=1659956469&amp;width=360 360w,//thecabinetshop.co.uk/cdn/shop/products/SHAKERDOORS1.png?v=1659956469&amp;width=533 533w,//thecabinetshop.co.uk/cdn/shop/products/SHAKERDOORS1.png?v=1659956469&amp;width=720 720w,//thecabinetshop.co.uk/cdn/shop/products/SHAKERDOORS1.png?v=1659956469&amp;width=940 940w,//thecabinetshop.co.uk/cdn/shop/products/SHAKERDOORS1.png?v=1659956469&amp;width=1066 1066w,//thecabinetshop.co.uk/cdn/shop/products/SHAKERDOORS1.png?v=1659956469 1600w\" width=\"1600\"/>\\n</div>\\n</div><div class=\"card__content\">\\n<div class=\"card__information\">\\n<h3 class=\"card__heading\">\\n<a aria-labelledby=\"StandardCardNoMediaLink-template--14560278282294__product-grid-4784571809846 NoMediaStandardBadge-template--14560278282294__product-grid-4784571809846\" class=\"full-unstyled-link\" href=\"/products/bespoke-doors\" id=\"StandardCardNoMediaLink-template--14560278282294__product-grid-4784571809846\">\\n                Made to Measure Door\\n              </a>\\n</h3>\\n</div>\\n<div class=\"card__badge bottom left\"></div>\\n</div>\\n</div>\\n<div class=\"card__content\">\\n<div class=\"card__information\">\\n<h3 class=\"card__heading h5\" id=\"title-template--14560278282294__product-grid-4784571809846\">\\n<a aria-labelledby=\"CardLink-template--14560278282294__product-grid-4784571809846 Badge-template--14560278282294__product-grid-4784571809846\" class=\"full-unstyled-link\" href=\"/products/bespoke-doors\" id=\"CardLink-template--14560278282294__product-grid-4784571809846\">\\n              Made to Measure Door\\n            </a>\\n</h3>\\n<div class=\"card-information\"><span class=\"caption-large light\"></span>\\n<div class=\"price\">\\n<div class=\"price__container\"><div class=\"price__regular\">\\n<span class=\"visually-hidden visually-hidden--inline\">Regular price</span>\\n<span class=\"price-item price-item--regular\">\\n        From ¬£11.52 GBP\\n      </span>\\n</div>\\n<div class=\"price__sale\">\\n<span class=\"visually-hidden visually-hidden--inline\">Regular price</span>\\n<span>\\n<s class=\"price-item price-item--regular\">\\n</s>\\n</span><span class=\"visually-hidden visually-hidden--inline\">Sale price</span>\\n<span class=\"price-item price-item--sale price-item--last\">\\n        From ¬£11.52 GBP\\n      </span>\\n</div>\\n<small class=\"unit-price caption hidden\">\\n<span class=\"visually-hidden\">Unit price</span>\\n<span class=\"price-item price-item--last\">\\n<span></span>\\n<span aria-hidden=\"true\">/</span>\\n<span class=\"visually-hidden\">¬†per¬†</span>\\n<span>\\n</span>\\n</span>\\n</small>\\n</div></div>\\n</div>\\n</div><div class=\"card__badge bottom left\"></div>\\n</div>\\n</div>\\n</div>\\n</link></li>\\n'"
      ]
     },
     "execution_count": 99,
     "metadata": {},
     "output_type": "execute_result"
    }
   ],
   "source": [
    "test"
   ]
  },
  {
   "cell_type": "code",
   "execution_count": null,
   "id": "ac8e3bfb-94c7-4f9d-83dc-7a9278619e31",
   "metadata": {},
   "outputs": [],
   "source": []
  }
 ],
 "metadata": {
  "kernelspec": {
   "display_name": "Python 3 (ipykernel)",
   "language": "python",
   "name": "python3"
  },
  "language_info": {
   "codemirror_mode": {
    "name": "ipython",
    "version": 3
   },
   "file_extension": ".py",
   "mimetype": "text/x-python",
   "name": "python",
   "nbconvert_exporter": "python",
   "pygments_lexer": "ipython3",
   "version": "3.12.4"
  }
 },
 "nbformat": 4,
 "nbformat_minor": 5
}
