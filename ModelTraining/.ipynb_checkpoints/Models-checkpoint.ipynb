{
 "cells": [
  {
   "cell_type": "code",
   "execution_count": 3,
   "id": "9e5614e9-300b-45e0-a62b-20e67821227b",
   "metadata": {},
   "outputs": [],
   "source": [
    "from sklearn.model_selection import train_test_split\n",
    "import pandas as pd #read files\n",
    "from pathlib import Path"
   ]
  },
  {
   "cell_type": "code",
   "execution_count": null,
   "id": "5ae9733c-8104-4dcd-bcf7-ff6b3aacd591",
   "metadata": {},
   "outputs": [],
   "source": [
    "df = pd.read_csv('/Users/Tico/Documents/Masters/LaMona/ModelTraining/elements.csv')"
   ]
  },
  {
   "cell_type": "code",
   "execution_count": null,
   "id": "18c2c227-60f4-484e-9710-65b465e84154",
   "metadata": {},
   "outputs": [],
   "source": [
    "X_train, X_test, y_train, y_test = train_test_split(X,y, test_size=0.2, random_state=22)\n"
   ]
  }
 ],
 "metadata": {
  "kernelspec": {
   "display_name": "Python 3 (ipykernel)",
   "language": "python",
   "name": "python3"
  },
  "language_info": {
   "codemirror_mode": {
    "name": "ipython",
    "version": 3
   },
   "file_extension": ".py",
   "mimetype": "text/x-python",
   "name": "python",
   "nbconvert_exporter": "python",
   "pygments_lexer": "ipython3",
   "version": "3.12.4"
  }
 },
 "nbformat": 4,
 "nbformat_minor": 5
}
