{
 "cells": [
  {
   "cell_type": "code",
   "execution_count": 3,
   "id": "9e5614e9-300b-45e0-a62b-20e67821227b",
   "metadata": {},
   "outputs": [],
   "source": [
    "from sklearn.model_selection import train_test_split\n",
    "import pandas as pd #read files\n",
    "from pathlib import Path"
   ]
  },
  {
   "cell_type": "code",
   "execution_count": 5,
   "id": "5ae9733c-8104-4dcd-bcf7-ff6b3aacd591",
   "metadata": {},
   "outputs": [],
   "source": [
    "df = pd.read_csv('/Users/Tico/Documents/Masters/LaMona/ModelTraining/elements.csv')"
   ]
  },
  {
   "cell_type": "code",
   "execution_count": 13,
   "id": "2bc98d16-7b37-4835-aa4e-a8d4fb85557e",
   "metadata": {},
   "outputs": [
    {
     "data": {
      "text/plain": [
       "name\n",
       "HP Spectre x360 16-f1500na 2-in-1 16\" Laptop Intel i7 12th Gen 16GB 512GB SSD        45\n",
       "HP Spectre x360 14-ef2502na 13.5\" Touchscreen Laptop i5 13th Gen 16GB 512GB Black    30\n",
       "HP Envy x360 15-fe0514sa 15\" OLED Touch Laptop Intel i5 13th Gen 8GB RAM 512GB       30\n",
       "HP Pavilion x360 14-ek1511sa 14\" 2 in 1 Touch Laptop Intel i3 13th Gen 8GB 256GB     15\n",
       "HP Spectre x360 14-ef2503na 13.5\" OLED Touch Laptop i7 13th Gen 16GB RAM 1TB         15\n",
       "                                                                                     ..\n",
       "JD Bug Original Street MS130B Foldable Scooter - Reflex Blue                          1\n",
       "JD Bug Original Street MS130B Foldable Scooter - Matt Black                           1\n",
       "JD Bug Original Street MS130B Foldable Scooter - Sky Blue                             1\n",
       "JD Bug Original Street MS130B Foldable Scooter - Pastel Pink                          1\n",
       "Low Triple Cupboard M2                                                                1\n",
       "Name: count, Length: 744, dtype: int64"
      ]
     },
     "execution_count": 13,
     "metadata": {},
     "output_type": "execute_result"
    }
   ],
   "source": [
    "df['name'].value_counts()"
   ]
  },
  {
   "cell_type": "code",
   "execution_count": null,
   "id": "18c2c227-60f4-484e-9710-65b465e84154",
   "metadata": {},
   "outputs": [],
   "source": [
    "X_train, X_test, y_train, y_test = train_test_split(X,y, test_size=0.2, random_state=22)\n"
   ]
  }
 ],
 "metadata": {
  "kernelspec": {
   "display_name": "Python 3 (ipykernel)",
   "language": "python",
   "name": "python3"
  },
  "language_info": {
   "codemirror_mode": {
    "name": "ipython",
    "version": 3
   },
   "file_extension": ".py",
   "mimetype": "text/x-python",
   "name": "python",
   "nbconvert_exporter": "python",
   "pygments_lexer": "ipython3",
   "version": "3.12.4"
  }
 },
 "nbformat": 4,
 "nbformat_minor": 5
}
