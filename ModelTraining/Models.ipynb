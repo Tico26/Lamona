{
 "cells": [
  {
   "cell_type": "code",
   "execution_count": 121,
   "id": "9e5614e9-300b-45e0-a62b-20e67821227b",
   "metadata": {},
   "outputs": [],
   "source": [
    "from sklearn.model_selection import train_test_split\n",
    "from sklearn.pipeline import Pipeline\n",
    "from sklearn.feature_extraction.text import TfidfVectorizer\n",
    "from sklearn.naive_bayes import MultinomialNB, ComplementNB\n",
    "from sklearn.svm import LinearSVC\n",
    "from sklearn.ensemble import RandomForestRegressor\n",
    "from sklearn.neighbors import KNeighborsClassifier\n",
    "from sklearn.metrics import accuracy_score, classification_report\n",
    "import pandas as pd #read files\n",
    "from bs4 import BeautifulSoup\n",
    "import requests\n",
    "import re\n",
    "import csv"
   ]
  },
  {
   "cell_type": "code",
   "execution_count": 67,
   "id": "5ae9733c-8104-4dcd-bcf7-ff6b3aacd591",
   "metadata": {},
   "outputs": [],
   "source": [
    "df = pd.read_csv('/Users/Tico/Documents/Masters/LaMona/ModelTraining/combinedElements.csv')"
   ]
  },
  {
   "cell_type": "code",
   "execution_count": 69,
   "id": "2bc98d16-7b37-4835-aa4e-a8d4fb85557e",
   "metadata": {},
   "outputs": [
    {
     "data": {
      "text/html": [
       "<div>\n",
       "<style scoped>\n",
       "    .dataframe tbody tr th:only-of-type {\n",
       "        vertical-align: middle;\n",
       "    }\n",
       "\n",
       "    .dataframe tbody tr th {\n",
       "        vertical-align: top;\n",
       "    }\n",
       "\n",
       "    .dataframe thead th {\n",
       "        text-align: right;\n",
       "    }\n",
       "</style>\n",
       "<table border=\"1\" class=\"dataframe\">\n",
       "  <thead>\n",
       "    <tr style=\"text-align: right;\">\n",
       "      <th></th>\n",
       "      <th>Unnamed: 0</th>\n",
       "      <th>html</th>\n",
       "      <th>category</th>\n",
       "      <th>name</th>\n",
       "      <th>price</th>\n",
       "    </tr>\n",
       "  </thead>\n",
       "  <tbody>\n",
       "    <tr>\n",
       "      <th>0</th>\n",
       "      <td>0</td>\n",
       "      <td>&lt;li class=\"mr-3 float-left\"&gt;\\n&lt;a class=\"text-b...</td>\n",
       "      <td>Li</td>\n",
       "      <td>NaN</td>\n",
       "      <td>NaN</td>\n",
       "    </tr>\n",
       "    <tr>\n",
       "      <th>1</th>\n",
       "      <td>1</td>\n",
       "      <td>&lt;li class=\"mr-3 float-left\"&gt;\\n&lt;a class=\"text-b...</td>\n",
       "      <td>Li</td>\n",
       "      <td>NaN</td>\n",
       "      <td>NaN</td>\n",
       "    </tr>\n",
       "    <tr>\n",
       "      <th>2</th>\n",
       "      <td>2</td>\n",
       "      <td>&lt;li class=\"mr-3 float-left\"&gt;\\n&lt;a class=\"text-b...</td>\n",
       "      <td>Li</td>\n",
       "      <td>NaN</td>\n",
       "      <td>NaN</td>\n",
       "    </tr>\n",
       "    <tr>\n",
       "      <th>3</th>\n",
       "      <td>3</td>\n",
       "      <td>&lt;li class=\"breadcrumb-item\"&gt;\\n&lt;a class=\"btn bt...</td>\n",
       "      <td>Li</td>\n",
       "      <td>NaN</td>\n",
       "      <td>NaN</td>\n",
       "    </tr>\n",
       "    <tr>\n",
       "      <th>4</th>\n",
       "      <td>4</td>\n",
       "      <td>&lt;li class=\"breadcrumb-item\"&gt;\\n&lt;a class=\"btn bt...</td>\n",
       "      <td>Li</td>\n",
       "      <td>NaN</td>\n",
       "      <td>NaN</td>\n",
       "    </tr>\n",
       "    <tr>\n",
       "      <th>...</th>\n",
       "      <td>...</td>\n",
       "      <td>...</td>\n",
       "      <td>...</td>\n",
       "      <td>...</td>\n",
       "      <td>...</td>\n",
       "    </tr>\n",
       "    <tr>\n",
       "      <th>5226</th>\n",
       "      <td>5226</td>\n",
       "      <td>&lt;li class=\"grid__item\"&gt;\\n&lt;link href=\"//thecabi...</td>\n",
       "      <td>Product</td>\n",
       "      <td>2 Drawer TV Stand M1</td>\n",
       "      <td>£239.59 GBP</td>\n",
       "    </tr>\n",
       "    <tr>\n",
       "      <th>5227</th>\n",
       "      <td>5227</td>\n",
       "      <td>&lt;li class=\"grid__item\"&gt;\\n&lt;link href=\"//thecabi...</td>\n",
       "      <td>Product</td>\n",
       "      <td>Mid Quad Bookcase M1</td>\n",
       "      <td>£0.00 GBP</td>\n",
       "    </tr>\n",
       "    <tr>\n",
       "      <th>5228</th>\n",
       "      <td>5228</td>\n",
       "      <td>&lt;li class=\"grid__item\"&gt;\\n&lt;link href=\"//thecabi...</td>\n",
       "      <td>Product</td>\n",
       "      <td>Low Quad Bookcase M1</td>\n",
       "      <td>£181.76 GBP</td>\n",
       "    </tr>\n",
       "    <tr>\n",
       "      <th>5229</th>\n",
       "      <td>5229</td>\n",
       "      <td>&lt;li class=\"grid__item\"&gt;\\n&lt;link href=\"//thecabi...</td>\n",
       "      <td>Product</td>\n",
       "      <td>Low 6 Drawer Chest M2</td>\n",
       "      <td>£364.62 GBP</td>\n",
       "    </tr>\n",
       "    <tr>\n",
       "      <th>5230</th>\n",
       "      <td>5230</td>\n",
       "      <td>&lt;li class=\"grid__item\"&gt;\\n&lt;link href=\"//thecabi...</td>\n",
       "      <td>Product</td>\n",
       "      <td>Low Triple Cupboard M2</td>\n",
       "      <td>£210.45 GBP</td>\n",
       "    </tr>\n",
       "  </tbody>\n",
       "</table>\n",
       "<p>5231 rows × 5 columns</p>\n",
       "</div>"
      ],
      "text/plain": [
       "      Unnamed: 0                                               html category  \\\n",
       "0              0  <li class=\"mr-3 float-left\">\\n<a class=\"text-b...       Li   \n",
       "1              1  <li class=\"mr-3 float-left\">\\n<a class=\"text-b...       Li   \n",
       "2              2  <li class=\"mr-3 float-left\">\\n<a class=\"text-b...       Li   \n",
       "3              3  <li class=\"breadcrumb-item\">\\n<a class=\"btn bt...       Li   \n",
       "4              4  <li class=\"breadcrumb-item\">\\n<a class=\"btn bt...       Li   \n",
       "...          ...                                                ...      ...   \n",
       "5226        5226  <li class=\"grid__item\">\\n<link href=\"//thecabi...  Product   \n",
       "5227        5227  <li class=\"grid__item\">\\n<link href=\"//thecabi...  Product   \n",
       "5228        5228  <li class=\"grid__item\">\\n<link href=\"//thecabi...  Product   \n",
       "5229        5229  <li class=\"grid__item\">\\n<link href=\"//thecabi...  Product   \n",
       "5230        5230  <li class=\"grid__item\">\\n<link href=\"//thecabi...  Product   \n",
       "\n",
       "                        name        price  \n",
       "0                        NaN          NaN  \n",
       "1                        NaN          NaN  \n",
       "2                        NaN          NaN  \n",
       "3                        NaN          NaN  \n",
       "4                        NaN          NaN  \n",
       "...                      ...          ...  \n",
       "5226    2 Drawer TV Stand M1  £239.59 GBP  \n",
       "5227    Mid Quad Bookcase M1    £0.00 GBP  \n",
       "5228    Low Quad Bookcase M1  £181.76 GBP  \n",
       "5229   Low 6 Drawer Chest M2  £364.62 GBP  \n",
       "5230  Low Triple Cupboard M2  £210.45 GBP  \n",
       "\n",
       "[5231 rows x 5 columns]"
      ]
     },
     "execution_count": 69,
     "metadata": {},
     "output_type": "execute_result"
    }
   ],
   "source": [
    "df"
   ]
  },
  {
   "cell_type": "code",
   "execution_count": 71,
   "id": "73198680-55ad-4d25-9024-caf4c48bc228",
   "metadata": {},
   "outputs": [],
   "source": [
    "X = df['html']\n",
    "y = df['category']"
   ]
  },
  {
   "cell_type": "code",
   "execution_count": 73,
   "id": "4c9c0a1d-8c9d-4468-8761-e529b35ff805",
   "metadata": {},
   "outputs": [],
   "source": [
    "X_train, X_test, y_train, y_test = train_test_split(X,y, test_size=0.2, random_state=22)"
   ]
  },
  {
   "cell_type": "code",
   "execution_count": 75,
   "id": "28a0dfa5-eadf-4f49-9cfa-c065fe9fce2e",
   "metadata": {
    "scrolled": true
   },
   "outputs": [],
   "source": [
    "#tdidf turns textual data into numerical format\n",
    "pipeMNB = Pipeline([('tfidf',TfidfVectorizer()),('clf',MultinomialNB())])\n",
    "pipeCNB = Pipeline([('tfidf',TfidfVectorizer()),('clf',ComplementNB())])\n",
    "pipeSVC = Pipeline([('tfidf',TfidfVectorizer()),('clf',LinearSVC())])"
   ]
  },
  {
   "cell_type": "code",
   "execution_count": 77,
   "id": "5ffa8b0a-8f24-4af3-b26e-328f98f783e7",
   "metadata": {},
   "outputs": [
    {
     "name": "stdout",
     "output_type": "stream",
     "text": [
      "MNB score is: 0.9121298949379179\n"
     ]
    }
   ],
   "source": [
    "#training mnb\n",
    "pipeMNB.fit(X_train, y_train)\n",
    "predictMNB = pipeMNB.predict(X_test)\n",
    "print(f\"MNB score is: \"+str(accuracy_score(y_test,predictMNB)))"
   ]
  },
  {
   "cell_type": "code",
   "execution_count": 78,
   "id": "88efd25f-38d9-4767-8956-e0db6cbbb37e",
   "metadata": {},
   "outputs": [
    {
     "name": "stdout",
     "output_type": "stream",
     "text": [
      "CNB score is: 0.9140401146131805\n"
     ]
    }
   ],
   "source": [
    "#training cnb\n",
    "pipeCNB.fit(X_train, y_train)\n",
    "predictCNB = pipeCNB.predict(X_test)\n",
    "print(f\"CNB score is: \"+str(accuracy_score(y_test,predictCNB)))"
   ]
  },
  {
   "cell_type": "code",
   "execution_count": 79,
   "id": "6f221edd-23d2-482c-95c9-bf2d9e17bbd1",
   "metadata": {},
   "outputs": [
    {
     "name": "stderr",
     "output_type": "stream",
     "text": [
      "/opt/anaconda3/lib/python3.12/site-packages/sklearn/svm/_classes.py:31: FutureWarning: The default value of `dual` will change from `True` to `'auto'` in 1.5. Set the value of `dual` explicitly to suppress the warning.\n",
      "  warnings.warn(\n"
     ]
    },
    {
     "name": "stdout",
     "output_type": "stream",
     "text": [
      "SVC score is: 0.9598853868194842\n"
     ]
    }
   ],
   "source": [
    "#training svc\n",
    "pipeSVC.fit(X_train, y_train)\n",
    "predictSVC = pipeSVC.predict(X_test)\n",
    "print(f\"SVC score is: \"+str(accuracy_score(y_test,predictSVC)))"
   ]
  },
  {
   "cell_type": "code",
   "execution_count": 80,
   "id": "283f0b66-34b1-4078-85f7-d30a53aa7e3b",
   "metadata": {},
   "outputs": [
    {
     "name": "stdout",
     "output_type": "stream",
     "text": [
      "              precision    recall  f1-score   support\n",
      "\n",
      "         Div       0.96      0.92      0.94       354\n",
      "          Li       0.91      0.96      0.93       295\n",
      "     Product       1.00      1.00      1.00       398\n",
      "\n",
      "    accuracy                           0.96      1047\n",
      "   macro avg       0.96      0.96      0.96      1047\n",
      "weighted avg       0.96      0.96      0.96      1047\n",
      "\n"
     ]
    }
   ],
   "source": [
    "#check accuracy of models\n",
    "print(classification_report(y_test,predictSVC))"
   ]
  },
  {
   "cell_type": "code",
   "execution_count": 81,
   "id": "0a32733e-c9fd-4fae-b4e7-700edfe815b6",
   "metadata": {},
   "outputs": [],
   "source": [
    "test = \"\"\"<li class=\"grid__item\">\n",
    "<link href=\"//thecabinetshop.co.uk/cdn/shop/t/18/assets/component-rating.css?v=24573085263941240431657786494\" media=\"all\" rel=\"stylesheet\" type=\"text/css\">\n",
    "\n",
    "\n",
    "</div>\n",
    "</link></li>\n",
    "\"\"\""
   ]
  },
  {
   "cell_type": "code",
   "execution_count": 83,
   "id": "2b06983b-4042-4dcb-a4a1-24068a834c1e",
   "metadata": {},
   "outputs": [
    {
     "data": {
      "text/plain": [
       "array(['Li'], dtype=object)"
      ]
     },
     "execution_count": 83,
     "metadata": {},
     "output_type": "execute_result"
    }
   ],
   "source": [
    "pipeSVC.predict([test])\n"
   ]
  },
  {
   "cell_type": "code",
   "execution_count": 84,
   "id": "ac8e3bfb-94c7-4f9d-83dc-7a9278619e31",
   "metadata": {},
   "outputs": [
    {
     "data": {
      "text/plain": [
       "array(['Product'], dtype='<U7')"
      ]
     },
     "execution_count": 84,
     "metadata": {},
     "output_type": "execute_result"
    }
   ],
   "source": [
    "pipeMNB.predict([test])"
   ]
  },
  {
   "cell_type": "code",
   "execution_count": 85,
   "id": "84924e69-66d6-4a08-83d2-cd9ea6ea0629",
   "metadata": {},
   "outputs": [
    {
     "data": {
      "text/plain": [
       "array(['Product'], dtype='<U7')"
      ]
     },
     "execution_count": 85,
     "metadata": {},
     "output_type": "execute_result"
    }
   ],
   "source": [
    "pipeCNB.predict([test])"
   ]
  },
  {
   "cell_type": "code",
   "execution_count": 86,
   "id": "074ce401-3acc-4392-945e-c116f91af3d5",
   "metadata": {},
   "outputs": [
    {
     "data": {
      "text/plain": [
       "25"
      ]
     },
     "execution_count": 86,
     "metadata": {},
     "output_type": "execute_result"
    }
   ],
   "source": [
    "url = \"https://www.tekshop.co.uk/laptops/home-laptops\"\n",
    "response = requests.get(url)\n",
    "soup = BeautifulSoup(response.content,'html.parser')\n",
    "products = []\n",
    "productGrid = soup.find(\"ol\",class_=\"products list items product-items\") \n",
    "prs = productGrid.contents\n",
    "test = prs[0].next_sibling\n",
    "len(prs)"
   ]
  },
  {
   "cell_type": "code",
   "execution_count": 111,
   "id": "20535b26-0fea-4b1a-b287-280c304504d9",
   "metadata": {},
   "outputs": [
    {
     "data": {
      "text/plain": [
       "12"
      ]
     },
     "execution_count": 111,
     "metadata": {},
     "output_type": "execute_result"
    }
   ],
   "source": [
    "counter=0\n",
    "identifiedProducts = []\n",
    "for child in prs:\n",
    "    if pipeSVC.predict([str(child)]) == ['Product']:\n",
    "        price = child.find(string=re.compile(\"£\"))\n",
    "        name = child.find(class_='name').text\n",
    "        productJSON = {\"html\":child, \"name\":name.strip(),\"price\":price.strip()}\n",
    "        identifiedProducts.append(productJSON)\n",
    "len(identifiedProducts)"
   ]
  },
  {
   "cell_type": "code",
   "execution_count": 125,
   "id": "4b04db8b-b760-469f-aefd-6be942d31192",
   "metadata": {},
   "outputs": [],
   "source": [
    "saveAs = 'Tekshop'\n",
    "with open('/Users/Tico/Documents/Masters/LaMona/ConfirmedProducts/'+saveAs+'.csv', 'w', newline='') as csvfile:\n",
    "    fieldnames = ['html', 'name', 'price']\n",
    "    writer = csv.DictWriter(csvfile, fieldnames=fieldnames)\n",
    "\n",
    "    writer.writeheader()\n",
    "    for item in identifiedProducts:\n",
    "        writer.writerow(item)"
   ]
  },
  {
   "cell_type": "code",
   "execution_count": 113,
   "id": "2b58447c-6018-49bb-9ee4-13a8fbeb1988",
   "metadata": {},
   "outputs": [],
   "source": [
    "#IGNORE BELOW THIS LINE"
   ]
  },
  {
   "cell_type": "code",
   "execution_count": 33,
   "id": "43e272aa-e659-405b-9061-9df4c421836d",
   "metadata": {},
   "outputs": [],
   "source": [
    "products=[]\n",
    "for child in productGrid:\n",
    "    if pipeMNB.predict([str(child)]) == ['Product']:\n",
    "        products.append(child)"
   ]
  },
  {
   "cell_type": "code",
   "execution_count": 35,
   "id": "d3711305-8e2a-40e5-bcae-d11bd102cb6c",
   "metadata": {},
   "outputs": [
    {
     "data": {
      "text/plain": [
       "25"
      ]
     },
     "execution_count": 35,
     "metadata": {},
     "output_type": "execute_result"
    }
   ],
   "source": [
    "products=[]\n",
    "for child in productGrid:\n",
    "    products.append(pipeCNB.predict([str(child)]))\n",
    "len(products)"
   ]
  },
  {
   "cell_type": "code",
   "execution_count": 37,
   "id": "b4acf410-a274-4b91-b526-9377132163da",
   "metadata": {},
   "outputs": [
    {
     "name": "stdout",
     "output_type": "stream",
     "text": [
      "<class 'list'>\n"
     ]
    }
   ],
   "source": [
    "divs = soup.find_all('div')\n",
    "identifiedProducts = []\n",
    "for div in divs:\n",
    "    divSubContent = div.contents\n",
    "    if divSubContent != None:\n",
    "        if pipeSVC.predict([str(divSubContent)]) == ['Product']:\n",
    "            print(type(divSubContent))\n",
    "            break\n",
    "    "
   ]
  },
  {
   "cell_type": "code",
   "execution_count": null,
   "id": "d98e10b3-a9c9-4c08-8e2d-e08442cf939b",
   "metadata": {},
   "outputs": [],
   "source": []
  }
 ],
 "metadata": {
  "kernelspec": {
   "display_name": "Python 3 (ipykernel)",
   "language": "python",
   "name": "python3"
  },
  "language_info": {
   "codemirror_mode": {
    "name": "ipython",
    "version": 3
   },
   "file_extension": ".py",
   "mimetype": "text/x-python",
   "name": "python",
   "nbconvert_exporter": "python",
   "pygments_lexer": "ipython3",
   "version": "3.12.4"
  }
 },
 "nbformat": 4,
 "nbformat_minor": 5
}
