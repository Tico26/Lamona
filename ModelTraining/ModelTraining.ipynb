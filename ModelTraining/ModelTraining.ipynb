{
 "cells": [
  {
   "cell_type": "code",
   "execution_count": null,
   "id": "e3590042-7513-4729-b18b-e59a437882c2",
   "metadata": {},
   "outputs": [],
   "source": [
    "import pandas as pd #read files\n"
   ]
  },
  {
   "cell_type": "code",
   "execution_count": null,
   "id": "6458b2d3-7159-4fe1-aad9-ae3744a1d0c0",
   "metadata": {},
   "outputs": [],
   "source": [
    "#convert to csv\n"
   ]
  }
 ],
 "metadata": {
  "kernelspec": {
   "display_name": "Python 3 (ipykernel)",
   "language": "python",
   "name": "python3"
  },
  "language_info": {
   "codemirror_mode": {
    "name": "ipython",
    "version": 3
   },
   "file_extension": ".py",
   "mimetype": "text/x-python",
   "name": "python",
   "nbconvert_exporter": "python",
   "pygments_lexer": "ipython3",
   "version": "3.12.4"
  }
 },
 "nbformat": 4,
 "nbformat_minor": 5
}
